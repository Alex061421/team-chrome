{
 "cells": [
  {
   "cell_type": "code",
   "execution_count": 1,
   "id": "5d3f956f",
   "metadata": {},
   "outputs": [],
   "source": [
    "from flask import Flask,session, render_template, url_for,redirect, g\n",
    "import sqlite3\n",
    "import matplotlib\n",
    "import pandas as pd\n",
    "import numpy as np\n",
    "from flask_wtf import FlaskForm\n",
    "from wtforms import StringField, SubmitField\n",
    "from wtforms.validators import InputRequired"
   ]
  },
  {
   "cell_type": "code",
   "execution_count": 2,
   "id": "99b1d6a3",
   "metadata": {},
   "outputs": [],
   "source": [
    "#Creating a flask object\n",
    "app = Flask(__name__)"
   ]
  },
  {
   "cell_type": "code",
   "execution_count": 3,
   "id": "d6974a3d",
   "metadata": {},
   "outputs": [],
   "source": [
    "#Secret key\n",
    "app.config['SECRET_KEY'] = 'GOOGLECHROME_TEAM_653738'"
   ]
  },
  {
   "cell_type": "code",
   "execution_count": 4,
   "id": "fe08b9c3",
   "metadata": {},
   "outputs": [],
   "source": [
    "#Main route defined\n",
    "@app.route(\"/\")\n",
    "def index():\n",
    "    return \"<h1>Welcome to Team Google Chrome<h1> \""
   ]
  },
  {
   "cell_type": "code",
   "execution_count": 5,
   "id": "11106dbe",
   "metadata": {},
   "outputs": [],
   "source": [
    "#connecting to sqlite database code\n",
    "def get_db():\n",
    "    db = getattr(g, '_database', None)\n",
    "    if db is None:\n",
    "        db = g._database = sqlite3.connect('OURDATABASE NAME FORM MADDY.db')\n",
    "    return db"
   ]
  },
  {
   "cell_type": "code",
   "execution_count": 6,
   "id": "f6fa592d",
   "metadata": {},
   "outputs": [],
   "source": [
    "#Terminating database connect when using it\n",
    "@app.teardown_appcontext\n",
    "def close_connection(exception):\n",
    "    db = getattr(g,'_database', None)\n",
    "    if db is not None:\n",
    "        db.close()"
   ]
  },
  {
   "cell_type": "code",
   "execution_count": 7,
   "id": "437d0079",
   "metadata": {},
   "outputs": [
    {
     "name": "stdout",
     "output_type": "stream",
     "text": [
      " * Serving Flask app \"__main__\" (lazy loading)\n",
      " * Environment: production\n",
      "\u001b[31m   WARNING: This is a development server. Do not use it in a production deployment.\u001b[0m\n",
      "\u001b[2m   Use a production WSGI server instead.\u001b[0m\n",
      " * Debug mode: off\n"
     ]
    },
    {
     "name": "stderr",
     "output_type": "stream",
     "text": [
      " * Running on http://127.0.0.1:5000/ (Press CTRL+C to quit)\n",
      "127.0.0.1 - - [06/Feb/2023 11:52:44] \"GET / HTTP/1.1\" 200 -\n"
     ]
    }
   ],
   "source": [
    "#Our app will run if name = main\n",
    "if __name__ =='__main__':\n",
    "    app.run()"
   ]
  }
 ],
 "metadata": {
  "kernelspec": {
   "display_name": "Python 3 (ipykernel)",
   "language": "python",
   "name": "python3"
  },
  "language_info": {
   "codemirror_mode": {
    "name": "ipython",
    "version": 3
   },
   "file_extension": ".py",
   "mimetype": "text/x-python",
   "name": "python",
   "nbconvert_exporter": "python",
   "pygments_lexer": "ipython3",
   "version": "3.9.13"
  }
 },
 "nbformat": 4,
 "nbformat_minor": 5
}
