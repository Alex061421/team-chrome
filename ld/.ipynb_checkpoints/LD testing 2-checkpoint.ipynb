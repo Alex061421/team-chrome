{
 "cells": [
  {
   "cell_type": "code",
   "execution_count": 33,
   "id": "49b7684d",
   "metadata": {},
   "outputs": [],
   "source": [
    "import requests\n",
    "import sys\n",
    "import pandas as pd \n",
    "import io\n",
    "import numpy as np\n",
    "import itertools \n",
    "import time\n",
    "\n",
    "def ld_dict_maker(rsid_list, population): \n",
    "    LD_dict= {}\n",
    "    for pair in itertools.combinations(rsid_list, r=2): \n",
    "        rsid1 = pair[0]\n",
    "        rsid2 = pair[1]\n",
    "        server = \"https://ldlink.nci.nih.gov/LDlinkRest/ldpop?\"\n",
    "        ext = 'var1={rsid1}&var2={rsid2}&pop=ALL&r2_d=r2&genome_build=grch38&token=b56c4bea4225'.format(rsid1=rsid1, rsid2=rsid2)\n",
    "        \n",
    "        response = ''\n",
    "        while response == '':\n",
    "            try:\n",
    "                response = requests.get(server+ext, headers={\"Content-Type\" : \"application/json\"})\n",
    "                break\n",
    "            except:\n",
    "                print(\"Connection refused by the server..\")\n",
    "                print(\"Let me sleep for 5 seconds\")\n",
    "                print(\"ZZzzzz...\")\n",
    "                time.sleep(5)\n",
    "                print(\"Was a nice sleep, now let me continue...\")\n",
    "                continue\n",
    "\n",
    "        if not response.ok:\n",
    "            response.raise_for_status()\n",
    "            sys.exit()\n",
    "\n",
    "        decoded = (response._content).decode(\"utf-8\") \n",
    "\n",
    "        if decoded == []: \n",
    "            print('Sorry there is no linkage disequilibrium data available for that combination of SNPs!')\n",
    "    \n",
    "        ld_string_data = io.StringIO(decoded)\n",
    "        ld_df = pd.read_csv(ld_string_data, sep='\\t')\n",
    "        ld_line = ld_df.loc[ld_df['Abbrev'] == population]\n",
    "        r2 = float(ld_line['R2'])\n",
    "        LD_dict[rsid1, rsid2] = r2\n",
    "        df = pd.DataFrame.set_value(rsid1, rsid2, r2)\n",
    "    return LD_dict"
   ]
  },
  {
   "cell_type": "code",
   "execution_count": 34,
   "id": "1419ab09",
   "metadata": {},
   "outputs": [
    {
     "ename": "AttributeError",
     "evalue": "type object 'DataFrame' has no attribute 'set_value'",
     "output_type": "error",
     "traceback": [
      "\u001b[0;31m---------------------------------------------------------------------------\u001b[0m",
      "\u001b[0;31mAttributeError\u001b[0m                            Traceback (most recent call last)",
      "Input \u001b[0;32mIn [34]\u001b[0m, in \u001b[0;36m<cell line: 1>\u001b[0;34m()\u001b[0m\n\u001b[0;32m----> 1\u001b[0m linkdis \u001b[38;5;241m=\u001b[39m \u001b[43mld_dict_maker\u001b[49m\u001b[43m(\u001b[49m\u001b[43m[\u001b[49m\u001b[38;5;124;43m'\u001b[39;49m\u001b[38;5;124;43mrs1015166\u001b[39;49m\u001b[38;5;124;43m'\u001b[39;49m\u001b[43m,\u001b[49m\n\u001b[1;32m      2\u001b[0m \u001b[38;5;124;43m'\u001b[39;49m\u001b[38;5;124;43mrs2647044\u001b[39;49m\u001b[38;5;124;43m'\u001b[39;49m\u001b[43m,\u001b[49m\n\u001b[1;32m      3\u001b[0m \u001b[38;5;124;43m'\u001b[39;49m\u001b[38;5;124;43mrs3757247\u001b[39;49m\u001b[38;5;124;43m'\u001b[39;49m\u001b[43m,\u001b[49m\n\u001b[1;32m      4\u001b[0m \u001b[38;5;124;43m'\u001b[39;49m\u001b[38;5;124;43mrs9273367\u001b[39;49m\u001b[38;5;124;43m'\u001b[39;49m\u001b[43m,\u001b[49m\n\u001b[1;32m      5\u001b[0m \u001b[38;5;124;43m'\u001b[39;49m\u001b[38;5;124;43mrs17711850\u001b[39;49m\u001b[38;5;124;43m'\u001b[39;49m\u001b[43m,\u001b[49m\n\u001b[1;32m      6\u001b[0m \u001b[38;5;124;43m'\u001b[39;49m\u001b[38;5;124;43mrs72928038\u001b[39;49m\u001b[38;5;124;43m'\u001b[39;49m\u001b[43m]\u001b[49m\u001b[43m,\u001b[49m\u001b[43m \u001b[49m\u001b[38;5;124;43m'\u001b[39;49m\u001b[38;5;124;43mALL\u001b[39;49m\u001b[38;5;124;43m'\u001b[39;49m\u001b[43m)\u001b[49m\n",
      "Input \u001b[0;32mIn [33]\u001b[0m, in \u001b[0;36mld_dict_maker\u001b[0;34m(rsid_list, population)\u001b[0m\n\u001b[1;32m     42\u001b[0m     r2 \u001b[38;5;241m=\u001b[39m \u001b[38;5;28mfloat\u001b[39m(ld_line[\u001b[38;5;124m'\u001b[39m\u001b[38;5;124mR2\u001b[39m\u001b[38;5;124m'\u001b[39m])\n\u001b[1;32m     43\u001b[0m     LD_dict[rsid1, rsid2] \u001b[38;5;241m=\u001b[39m r2\n\u001b[0;32m---> 44\u001b[0m     df \u001b[38;5;241m=\u001b[39m \u001b[43mpd\u001b[49m\u001b[38;5;241;43m.\u001b[39;49m\u001b[43mDataFrame\u001b[49m\u001b[38;5;241;43m.\u001b[39;49m\u001b[43mset_value\u001b[49m(rsid1, rsid2, r2)\n\u001b[1;32m     45\u001b[0m \u001b[38;5;28;01mreturn\u001b[39;00m LD_dict\n",
      "\u001b[0;31mAttributeError\u001b[0m: type object 'DataFrame' has no attribute 'set_value'"
     ]
    }
   ],
   "source": [
    "linkdis = ld_dict_maker(['rs1015166',\n",
    "'rs2647044',\n",
    "'rs3757247',\n",
    "'rs9273367',\n",
    "'rs17711850',\n",
    "'rs72928038'], 'ALL')"
   ]
  },
  {
   "cell_type": "code",
   "execution_count": 42,
   "id": "3d8f2ba5",
   "metadata": {},
   "outputs": [],
   "source": [
    "import numpy as np\n",
    "\n",
    "def square_matrix(size, *elements):\n",
    "    return np.array(elements).reshape(size, size)"
   ]
  },
  {
   "cell_type": "code",
   "execution_count": 72,
   "id": "87d74f5e",
   "metadata": {},
   "outputs": [],
   "source": [
    "rsid_list = ['rs1015166',\n",
    "'rs2647044',\n",
    "'rs3757247',\n",
    "'rs9273367',\n",
    "'rs17711850',\n",
    "'rs72928038']\n",
    "def ld_graph_maker(ld_dict, rsid_list): \n",
    "    rsid1 = []\n",
    "    rsid2 = []\n",
    "    matrix = []\n",
    "    for pair in list(ld_dict.keys()): \n",
    "        rsid1.append(pair[0])\n",
    "        rsid2.append(pair[1])\n",
    "    rsid_list_combo = list(itertools.permutations(rsid_list))\n",
    "    for r1 in rsid_list_combo[0]:\n",
    "        for r2 in rsid_list_combo[1]:\n",
    "            if (r1,r2) in ld_dict: \n",
    "                matrix.append(ld_dict[(r1,r2)])\n",
    "            elif (r2,r1) in ld_dict: \n",
    "                matrix.append(ld_dict[(r2,r1)])  \n",
    "            else: \n",
    "                matrix.append(0)\n",
    "    return matrix\n",
    "matrix = ld_graph_maker(linkdis, rsid_list)"
   ]
  },
  {
   "cell_type": "code",
   "execution_count": 77,
   "id": "d5d49019",
   "metadata": {},
   "outputs": [
    {
     "name": "stdout",
     "output_type": "stream",
     "text": [
      "[0, 0.0143, 0.0002, 0.0019, 0.0004, 0.0008, 0.0143, 0, 0.0012, 0.1572, 0.0001, 0.0024, 0.0002, 0.0012, 0, 0.0047, 0.1176, 0.2533, 0.0019, 0.1572, 0.0047, 0, 0.0006, 0.0002, 0.0008, 0.0024, 0.2533, 0.0002, 0.3559, 0, 0.0004, 0.0001, 0.1176, 0.0006, 0, 0.3559]\n"
     ]
    }
   ],
   "source": [
    "print(matrix)\n",
    "matrix_ld = np.asarray(matrix)\n"
   ]
  },
  {
   "cell_type": "code",
   "execution_count": 78,
   "id": "84792a38",
   "metadata": {},
   "outputs": [
    {
     "ename": "MaskError",
     "evalue": "Mask and data not compatible: data size is 36, mask size is 1296.",
     "output_type": "error",
     "traceback": [
      "\u001b[0;31m---------------------------------------------------------------------------\u001b[0m",
      "\u001b[0;31mMaskError\u001b[0m                                 Traceback (most recent call last)",
      "Input \u001b[0;32mIn [78]\u001b[0m, in \u001b[0;36m<cell line: 5>\u001b[0;34m()\u001b[0m\n\u001b[1;32m      1\u001b[0m \u001b[38;5;28;01mfrom\u001b[39;00m \u001b[38;5;21;01mld_plot\u001b[39;00m\u001b[38;5;21;01m.\u001b[39;00m\u001b[38;5;21;01mld_plot\u001b[39;00m \u001b[38;5;28;01mimport\u001b[39;00m ld_plot\n\u001b[1;32m      3\u001b[0m \u001b[38;5;66;03m# LD: A symmetric LD matrix\u001b[39;00m\n\u001b[1;32m      4\u001b[0m \u001b[38;5;66;03m# labels: A list of position names\u001b[39;00m\n\u001b[0;32m----> 5\u001b[0m figure \u001b[38;5;241m=\u001b[39m \u001b[43mld_plot\u001b[49m\u001b[43m(\u001b[49m\u001b[43mld\u001b[49m\u001b[38;5;241;43m=\u001b[39;49m\u001b[43mmatrix_ld\u001b[49m\u001b[43m,\u001b[49m\u001b[43m \u001b[49m\u001b[43mlabels\u001b[49m\u001b[38;5;241;43m=\u001b[39;49m\u001b[43mrsid_list\u001b[49m\u001b[43m)\u001b[49m\n\u001b[1;32m      6\u001b[0m figure\u001b[38;5;241m.\u001b[39msavefig(\u001b[38;5;124m'\u001b[39m\u001b[38;5;124mld_plot.png\u001b[39m\u001b[38;5;124m'\u001b[39m)\n",
      "File \u001b[0;32m/Applications/anaconda3/lib/python3.9/site-packages/ld_plot/ld_plot.py:21\u001b[0m, in \u001b[0;36mld_plot\u001b[0;34m(ld, labels)\u001b[0m\n\u001b[1;32m     19\u001b[0m \u001b[38;5;66;03m# mask triangle matrix\u001b[39;00m\n\u001b[1;32m     20\u001b[0m mask \u001b[38;5;241m=\u001b[39m np\u001b[38;5;241m.\u001b[39mtri(n, k\u001b[38;5;241m=\u001b[39m\u001b[38;5;241m0\u001b[39m)\n\u001b[0;32m---> 21\u001b[0m ld_masked \u001b[38;5;241m=\u001b[39m \u001b[43mnp\u001b[49m\u001b[38;5;241;43m.\u001b[39;49m\u001b[43mma\u001b[49m\u001b[38;5;241;43m.\u001b[39;49m\u001b[43marray\u001b[49m\u001b[43m(\u001b[49m\u001b[43mld\u001b[49m\u001b[43m,\u001b[49m\u001b[43m \u001b[49m\u001b[43mmask\u001b[49m\u001b[38;5;241;43m=\u001b[39;49m\u001b[43mmask\u001b[49m\u001b[43m)\u001b[49m\n\u001b[1;32m     23\u001b[0m \u001b[38;5;66;03m# create rotation/scaling matrix\u001b[39;00m\n\u001b[1;32m     24\u001b[0m t \u001b[38;5;241m=\u001b[39m np\u001b[38;5;241m.\u001b[39marray([[\u001b[38;5;241m1\u001b[39m, \u001b[38;5;241m0.5\u001b[39m], [\u001b[38;5;241m-\u001b[39m\u001b[38;5;241m1\u001b[39m, \u001b[38;5;241m0.5\u001b[39m]])\n",
      "File \u001b[0;32m/Applications/anaconda3/lib/python3.9/site-packages/numpy/ma/core.py:6559\u001b[0m, in \u001b[0;36marray\u001b[0;34m(data, dtype, copy, order, mask, fill_value, keep_mask, hard_mask, shrink, subok, ndmin)\u001b[0m\n\u001b[1;32m   6549\u001b[0m \u001b[38;5;28;01mdef\u001b[39;00m \u001b[38;5;21marray\u001b[39m(data, dtype\u001b[38;5;241m=\u001b[39m\u001b[38;5;28;01mNone\u001b[39;00m, copy\u001b[38;5;241m=\u001b[39m\u001b[38;5;28;01mFalse\u001b[39;00m, order\u001b[38;5;241m=\u001b[39m\u001b[38;5;28;01mNone\u001b[39;00m,\n\u001b[1;32m   6550\u001b[0m           mask\u001b[38;5;241m=\u001b[39mnomask, fill_value\u001b[38;5;241m=\u001b[39m\u001b[38;5;28;01mNone\u001b[39;00m, keep_mask\u001b[38;5;241m=\u001b[39m\u001b[38;5;28;01mTrue\u001b[39;00m,\n\u001b[1;32m   6551\u001b[0m           hard_mask\u001b[38;5;241m=\u001b[39m\u001b[38;5;28;01mFalse\u001b[39;00m, shrink\u001b[38;5;241m=\u001b[39m\u001b[38;5;28;01mTrue\u001b[39;00m, subok\u001b[38;5;241m=\u001b[39m\u001b[38;5;28;01mTrue\u001b[39;00m, ndmin\u001b[38;5;241m=\u001b[39m\u001b[38;5;241m0\u001b[39m):\n\u001b[1;32m   6552\u001b[0m     \u001b[38;5;124;03m\"\"\"\u001b[39;00m\n\u001b[1;32m   6553\u001b[0m \u001b[38;5;124;03m    Shortcut to MaskedArray.\u001b[39;00m\n\u001b[1;32m   6554\u001b[0m \n\u001b[0;32m   (...)\u001b[0m\n\u001b[1;32m   6557\u001b[0m \n\u001b[1;32m   6558\u001b[0m \u001b[38;5;124;03m    \"\"\"\u001b[39;00m\n\u001b[0;32m-> 6559\u001b[0m     \u001b[38;5;28;01mreturn\u001b[39;00m \u001b[43mMaskedArray\u001b[49m\u001b[43m(\u001b[49m\u001b[43mdata\u001b[49m\u001b[43m,\u001b[49m\u001b[43m \u001b[49m\u001b[43mmask\u001b[49m\u001b[38;5;241;43m=\u001b[39;49m\u001b[43mmask\u001b[49m\u001b[43m,\u001b[49m\u001b[43m \u001b[49m\u001b[43mdtype\u001b[49m\u001b[38;5;241;43m=\u001b[39;49m\u001b[43mdtype\u001b[49m\u001b[43m,\u001b[49m\u001b[43m \u001b[49m\u001b[43mcopy\u001b[49m\u001b[38;5;241;43m=\u001b[39;49m\u001b[43mcopy\u001b[49m\u001b[43m,\u001b[49m\n\u001b[1;32m   6560\u001b[0m \u001b[43m                       \u001b[49m\u001b[43msubok\u001b[49m\u001b[38;5;241;43m=\u001b[39;49m\u001b[43msubok\u001b[49m\u001b[43m,\u001b[49m\u001b[43m \u001b[49m\u001b[43mkeep_mask\u001b[49m\u001b[38;5;241;43m=\u001b[39;49m\u001b[43mkeep_mask\u001b[49m\u001b[43m,\u001b[49m\n\u001b[1;32m   6561\u001b[0m \u001b[43m                       \u001b[49m\u001b[43mhard_mask\u001b[49m\u001b[38;5;241;43m=\u001b[39;49m\u001b[43mhard_mask\u001b[49m\u001b[43m,\u001b[49m\u001b[43m \u001b[49m\u001b[43mfill_value\u001b[49m\u001b[38;5;241;43m=\u001b[39;49m\u001b[43mfill_value\u001b[49m\u001b[43m,\u001b[49m\n\u001b[1;32m   6562\u001b[0m \u001b[43m                       \u001b[49m\u001b[43mndmin\u001b[49m\u001b[38;5;241;43m=\u001b[39;49m\u001b[43mndmin\u001b[49m\u001b[43m,\u001b[49m\u001b[43m \u001b[49m\u001b[43mshrink\u001b[49m\u001b[38;5;241;43m=\u001b[39;49m\u001b[43mshrink\u001b[49m\u001b[43m,\u001b[49m\u001b[43m \u001b[49m\u001b[43morder\u001b[49m\u001b[38;5;241;43m=\u001b[39;49m\u001b[43morder\u001b[49m\u001b[43m)\u001b[49m\n",
      "File \u001b[0;32m/Applications/anaconda3/lib/python3.9/site-packages/numpy/ma/core.py:2908\u001b[0m, in \u001b[0;36mMaskedArray.__new__\u001b[0;34m(cls, data, mask, dtype, copy, subok, ndmin, fill_value, keep_mask, hard_mask, shrink, order)\u001b[0m\n\u001b[1;32m   2905\u001b[0m     \u001b[38;5;28;01melse\u001b[39;00m:\n\u001b[1;32m   2906\u001b[0m         msg \u001b[38;5;241m=\u001b[39m \u001b[38;5;124m\"\u001b[39m\u001b[38;5;124mMask and data not compatible: data size is \u001b[39m\u001b[38;5;132;01m%i\u001b[39;00m\u001b[38;5;124m, \u001b[39m\u001b[38;5;124m\"\u001b[39m \u001b[38;5;241m+\u001b[39m \\\n\u001b[1;32m   2907\u001b[0m               \u001b[38;5;124m\"\u001b[39m\u001b[38;5;124mmask size is \u001b[39m\u001b[38;5;132;01m%i\u001b[39;00m\u001b[38;5;124m.\u001b[39m\u001b[38;5;124m\"\u001b[39m\n\u001b[0;32m-> 2908\u001b[0m         \u001b[38;5;28;01mraise\u001b[39;00m MaskError(msg \u001b[38;5;241m%\u001b[39m (nd, nm))\n\u001b[1;32m   2909\u001b[0m     copy \u001b[38;5;241m=\u001b[39m \u001b[38;5;28;01mTrue\u001b[39;00m\n\u001b[1;32m   2910\u001b[0m \u001b[38;5;66;03m# Set the mask to the new value\u001b[39;00m\n",
      "\u001b[0;31mMaskError\u001b[0m: Mask and data not compatible: data size is 36, mask size is 1296."
     ]
    },
    {
     "data": {
      "text/plain": [
       "<Figure size 432x288 with 0 Axes>"
      ]
     },
     "metadata": {},
     "output_type": "display_data"
    }
   ],
   "source": [
    "from ld_plot.ld_plot import ld_plot\n",
    "\n",
    "# LD: A symmetric LD matrix\n",
    "# labels: A list of position names\n",
    "figure = ld_plot(ld=matrix_ld, labels=rsid_list)\n",
    "figure.savefig('ld_plot.png')"
   ]
  }
 ],
 "metadata": {
  "kernelspec": {
   "display_name": "Python 3 (ipykernel)",
   "language": "python",
   "name": "python3"
  },
  "language_info": {
   "codemirror_mode": {
    "name": "ipython",
    "version": 3
   },
   "file_extension": ".py",
   "mimetype": "text/x-python",
   "name": "python",
   "nbconvert_exporter": "python",
   "pygments_lexer": "ipython3",
   "version": "3.9.12"
  }
 },
 "nbformat": 4,
 "nbformat_minor": 5
}
